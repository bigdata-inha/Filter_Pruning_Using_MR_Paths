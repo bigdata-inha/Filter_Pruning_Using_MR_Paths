{
 "cells": [
  {
   "cell_type": "code",
   "execution_count": 1,
   "metadata": {
    "scrolled": true
   },
   "outputs": [
    {
     "name": "stdout",
     "output_type": "stream",
     "text": [
      "Files already downloaded and verified\n",
      "32 100 Cifar100\n",
      "Loading checkpoint 'experiments\\vgg16_exp_cifar100_0\\checkpoints\\checkpoint.pth'\n",
      "Checkpoint loaded successfully at (epoch 240) at (iteration 93840)\n",
      "\n",
      "Program will run on *****GPU-CUDA*****\n",
      "\n",
      "VGG(\n",
      "  (features): Sequential(\n",
      "    (0): Conv2d(3, 64, kernel_size=(3, 3), stride=(1, 1), padding=(1, 1))\n",
      "    (1): BatchNorm2d(64, eps=1e-05, momentum=0.1, affine=True, track_running_stats=True)\n",
      "    (2): ReLU(inplace=True)\n",
      "    (3): Conv2d(64, 64, kernel_size=(3, 3), stride=(1, 1), padding=(1, 1))\n",
      "    (4): BatchNorm2d(64, eps=1e-05, momentum=0.1, affine=True, track_running_stats=True)\n",
      "    (5): ReLU(inplace=True)\n",
      "    (6): MaxPool2d(kernel_size=2, stride=2, padding=0, dilation=1, ceil_mode=False)\n",
      "    (7): Conv2d(64, 128, kernel_size=(3, 3), stride=(1, 1), padding=(1, 1))\n",
      "    (8): BatchNorm2d(128, eps=1e-05, momentum=0.1, affine=True, track_running_stats=True)\n",
      "    (9): ReLU(inplace=True)\n",
      "    (10): Conv2d(128, 128, kernel_size=(3, 3), stride=(1, 1), padding=(1, 1))\n",
      "    (11): BatchNorm2d(128, eps=1e-05, momentum=0.1, affine=True, track_running_stats=True)\n",
      "    (12): ReLU(inplace=True)\n",
      "    (13): MaxPool2d(kernel_size=2, stride=2, padding=0, dilation=1, ceil_mode=False)\n",
      "    (14): Conv2d(128, 256, kernel_size=(3, 3), stride=(1, 1), padding=(1, 1))\n",
      "    (15): BatchNorm2d(256, eps=1e-05, momentum=0.1, affine=True, track_running_stats=True)\n",
      "    (16): ReLU(inplace=True)\n",
      "    (17): Conv2d(256, 256, kernel_size=(3, 3), stride=(1, 1), padding=(1, 1))\n",
      "    (18): BatchNorm2d(256, eps=1e-05, momentum=0.1, affine=True, track_running_stats=True)\n",
      "    (19): ReLU(inplace=True)\n",
      "    (20): Conv2d(256, 256, kernel_size=(3, 3), stride=(1, 1), padding=(1, 1))\n",
      "    (21): BatchNorm2d(256, eps=1e-05, momentum=0.1, affine=True, track_running_stats=True)\n",
      "    (22): ReLU(inplace=True)\n",
      "    (23): MaxPool2d(kernel_size=2, stride=2, padding=0, dilation=1, ceil_mode=False)\n",
      "    (24): Conv2d(256, 512, kernel_size=(3, 3), stride=(1, 1), padding=(1, 1))\n",
      "    (25): BatchNorm2d(512, eps=1e-05, momentum=0.1, affine=True, track_running_stats=True)\n",
      "    (26): ReLU(inplace=True)\n",
      "    (27): Conv2d(512, 512, kernel_size=(3, 3), stride=(1, 1), padding=(1, 1))\n",
      "    (28): BatchNorm2d(512, eps=1e-05, momentum=0.1, affine=True, track_running_stats=True)\n",
      "    (29): ReLU(inplace=True)\n",
      "    (30): Conv2d(512, 512, kernel_size=(3, 3), stride=(1, 1), padding=(1, 1))\n",
      "    (31): BatchNorm2d(512, eps=1e-05, momentum=0.1, affine=True, track_running_stats=True)\n",
      "    (32): ReLU(inplace=True)\n",
      "    (33): MaxPool2d(kernel_size=2, stride=2, padding=0, dilation=1, ceil_mode=False)\n",
      "    (34): Conv2d(512, 512, kernel_size=(3, 3), stride=(1, 1), padding=(1, 1))\n",
      "    (35): BatchNorm2d(512, eps=1e-05, momentum=0.1, affine=True, track_running_stats=True)\n",
      "    (36): ReLU(inplace=True)\n",
      "    (37): Conv2d(512, 512, kernel_size=(3, 3), stride=(1, 1), padding=(1, 1))\n",
      "    (38): BatchNorm2d(512, eps=1e-05, momentum=0.1, affine=True, track_running_stats=True)\n",
      "    (39): ReLU(inplace=True)\n",
      "    (40): Conv2d(512, 512, kernel_size=(3, 3), stride=(1, 1), padding=(1, 1))\n",
      "    (41): BatchNorm2d(512, eps=1e-05, momentum=0.1, affine=True, track_running_stats=True)\n",
      "    (42): ReLU(inplace=True)\n",
      "    (43): MaxPool2d(kernel_size=2, stride=2, padding=0, dilation=1, ceil_mode=False)\n",
      "  )\n",
      "  (classifier): Sequential(\n",
      "    (0): Linear(in_features=512, out_features=4096, bias=True)\n",
      "    (1): ReLU(inplace=True)\n",
      "    (2): Dropout(p=0.5, inplace=False)\n",
      "    (3): Linear(in_features=4096, out_features=4096, bias=True)\n",
      "    (4): ReLU(inplace=True)\n",
      "    (5): Dropout(p=0.5, inplace=False)\n",
      "    (6): Linear(in_features=4096, out_features=100, bias=True)\n",
      "  )\n",
      ")\n"
     ]
    },
    {
     "data": {
      "text/plain": [
       "VGG(\n",
       "  (features): Sequential(\n",
       "    (0): Conv2d(3, 64, kernel_size=(3, 3), stride=(1, 1), padding=(1, 1))\n",
       "    (1): BatchNorm2d(64, eps=1e-05, momentum=0.1, affine=True, track_running_stats=True)\n",
       "    (2): ReLU(inplace=True)\n",
       "    (3): Conv2d(64, 64, kernel_size=(3, 3), stride=(1, 1), padding=(1, 1))\n",
       "    (4): BatchNorm2d(64, eps=1e-05, momentum=0.1, affine=True, track_running_stats=True)\n",
       "    (5): ReLU(inplace=True)\n",
       "    (6): MaxPool2d(kernel_size=2, stride=2, padding=0, dilation=1, ceil_mode=False)\n",
       "    (7): Conv2d(64, 128, kernel_size=(3, 3), stride=(1, 1), padding=(1, 1))\n",
       "    (8): BatchNorm2d(128, eps=1e-05, momentum=0.1, affine=True, track_running_stats=True)\n",
       "    (9): ReLU(inplace=True)\n",
       "    (10): Conv2d(128, 128, kernel_size=(3, 3), stride=(1, 1), padding=(1, 1))\n",
       "    (11): BatchNorm2d(128, eps=1e-05, momentum=0.1, affine=True, track_running_stats=True)\n",
       "    (12): ReLU(inplace=True)\n",
       "    (13): MaxPool2d(kernel_size=2, stride=2, padding=0, dilation=1, ceil_mode=False)\n",
       "    (14): Conv2d(128, 256, kernel_size=(3, 3), stride=(1, 1), padding=(1, 1))\n",
       "    (15): BatchNorm2d(256, eps=1e-05, momentum=0.1, affine=True, track_running_stats=True)\n",
       "    (16): ReLU(inplace=True)\n",
       "    (17): Conv2d(256, 256, kernel_size=(3, 3), stride=(1, 1), padding=(1, 1))\n",
       "    (18): BatchNorm2d(256, eps=1e-05, momentum=0.1, affine=True, track_running_stats=True)\n",
       "    (19): ReLU(inplace=True)\n",
       "    (20): Conv2d(256, 256, kernel_size=(3, 3), stride=(1, 1), padding=(1, 1))\n",
       "    (21): BatchNorm2d(256, eps=1e-05, momentum=0.1, affine=True, track_running_stats=True)\n",
       "    (22): ReLU(inplace=True)\n",
       "    (23): MaxPool2d(kernel_size=2, stride=2, padding=0, dilation=1, ceil_mode=False)\n",
       "    (24): Conv2d(256, 512, kernel_size=(3, 3), stride=(1, 1), padding=(1, 1))\n",
       "    (25): BatchNorm2d(512, eps=1e-05, momentum=0.1, affine=True, track_running_stats=True)\n",
       "    (26): ReLU(inplace=True)\n",
       "    (27): Conv2d(512, 512, kernel_size=(3, 3), stride=(1, 1), padding=(1, 1))\n",
       "    (28): BatchNorm2d(512, eps=1e-05, momentum=0.1, affine=True, track_running_stats=True)\n",
       "    (29): ReLU(inplace=True)\n",
       "    (30): Conv2d(512, 512, kernel_size=(3, 3), stride=(1, 1), padding=(1, 1))\n",
       "    (31): BatchNorm2d(512, eps=1e-05, momentum=0.1, affine=True, track_running_stats=True)\n",
       "    (32): ReLU(inplace=True)\n",
       "    (33): MaxPool2d(kernel_size=2, stride=2, padding=0, dilation=1, ceil_mode=False)\n",
       "    (34): Conv2d(512, 512, kernel_size=(3, 3), stride=(1, 1), padding=(1, 1))\n",
       "    (35): BatchNorm2d(512, eps=1e-05, momentum=0.1, affine=True, track_running_stats=True)\n",
       "    (36): ReLU(inplace=True)\n",
       "    (37): Conv2d(512, 512, kernel_size=(3, 3), stride=(1, 1), padding=(1, 1))\n",
       "    (38): BatchNorm2d(512, eps=1e-05, momentum=0.1, affine=True, track_running_stats=True)\n",
       "    (39): ReLU(inplace=True)\n",
       "    (40): Conv2d(512, 512, kernel_size=(3, 3), stride=(1, 1), padding=(1, 1))\n",
       "    (41): BatchNorm2d(512, eps=1e-05, momentum=0.1, affine=True, track_running_stats=True)\n",
       "    (42): ReLU(inplace=True)\n",
       "    (43): MaxPool2d(kernel_size=2, stride=2, padding=0, dilation=1, ceil_mode=False)\n",
       "  )\n",
       "  (classifier): Sequential(\n",
       "    (0): Linear(in_features=512, out_features=4096, bias=True)\n",
       "    (1): ReLU(inplace=True)\n",
       "    (2): Dropout(p=0.5, inplace=False)\n",
       "    (3): Linear(in_features=4096, out_features=4096, bias=True)\n",
       "    (4): ReLU(inplace=True)\n",
       "    (5): Dropout(p=0.5, inplace=False)\n",
       "    (6): Linear(in_features=4096, out_features=100, bias=True)\n",
       "  )\n",
       ")"
      ]
     },
     "execution_count": 1,
     "metadata": {},
     "output_type": "execute_result"
    }
   ],
   "source": [
    "import numpy as np\n",
    "import torch\n",
    "from torch.autograd import Variable\n",
    "import torchvision.transforms as transforms\n",
    "import torchvision.datasets as datasets\n",
    "from glob import glob\n",
    "import torch.backends.cudnn as cudnn\n",
    "from modules.vgg import vgg16_bn\n",
    "from modules.new_vgg import new_vgg16\n",
    "\n",
    "from modules.vgg import vgg16_bn\n",
    "from modules.resnet import resnet50, resnet101\n",
    "import matplotlib.cm\n",
    "from matplotlib.cm import ScalarMappable\n",
    "import argparse\n",
    "import easydict\n",
    "import os\n",
    "\n",
    "from utils.config import *\n",
    "from utils.count_model import *\n",
    "from datasets.cifar100 import *\n",
    "\n",
    "\n",
    "def compute_pred(output):\n",
    "    pred = output.data.max(1, keepdim=True)[1]  # get the index of the max log-probability\n",
    "    print('Pred cls : '+str(pred))\n",
    "    T = pred.squeeze().cpu().numpy()\n",
    "    T = np.expand_dims(T, 0)\n",
    "    T = (T[:, np.newaxis] == np.arange(100)) * 1.0\n",
    "    T = torch.from_numpy(T).type(torch.FloatTensor)\n",
    "    Tt = Variable(T).cuda()\n",
    "    return Tt\n",
    "\n",
    "\n",
    "config = easydict.EasyDict()\n",
    "config.exp_name = \"vgg16_exp_cifar100_0\"\n",
    "config.log_dir = os.path.join(\"experiments\", config.exp_name, \"logs/\")\n",
    "\n",
    "config.load_file = os.path.join(\"experiments\", \"vgg16_exp_cifar100_0\",\"checkpoints\", \"checkpoint.pth\")\n",
    "config.cuda = True\n",
    "config.gpu_device = 0\n",
    "config.seed = 1\n",
    "config.milestones = [10, 15, 20 , 25]\n",
    "config.gamma = 0.9\n",
    "config.img_size = 32\n",
    "config.num_classes = 100\n",
    "config.data_mode = \"download\"\n",
    "config.data_loader_workers = 4\n",
    "config.pin_memory = True\n",
    "config.async_loading = True\n",
    "config.batch_size = 128\n",
    "config.async_loading = True\n",
    "config.max_epoch = 30\n",
    "torch.cuda.init()\n",
    "\n",
    "cudnn.benchmark = True\n",
    "\n",
    "num_workers = 0\n",
    "batch_size = 1\n",
    "\n",
    "normalize = transforms.Normalize(mean=[0.485, 0.456, 0.406],\n",
    "                                 std=[0.229, 0.224, 0.225])\n",
    "\n",
    "# define data loader\n",
    "data_loader = Selected_Cifar100DataLoader(config)\n",
    "\n",
    "# define model\n",
    "model = vgg16_bn(input_shape=config.img_size, num_classes=config.num_classes, data_set='Cifar100')\n",
    "model.load_checkpoint(config.load_file)\n",
    "model.init_graph(config)\n",
    "\n",
    "# method = LRP or RAP\n",
    "method = 'LRP'\n",
    "\n",
    "is_cuda = torch.cuda.is_available()\n",
    "if is_cuda and not config.cuda:\n",
    "    print(\"WARNING: You have a CUDA device, so you should probably enable CUDA\")\n",
    "cuda = is_cuda & config.cuda\n",
    "manual_seed = config.seed\n",
    "if cuda:\n",
    "    device = torch.device(\"cuda\")\n",
    "    torch.cuda.manual_seed(manual_seed)\n",
    "    torch.cuda.set_device(config.gpu_device)\n",
    "\n",
    "print(model)\n",
    "model = model.to(device)\n",
    "\n",
    "# evaluate\n",
    "model.eval()"
   ]
  },
  {
   "cell_type": "code",
   "execution_count": 2,
   "metadata": {},
   "outputs": [
    {
     "name": "stdout",
     "output_type": "stream",
     "text": [
      "Program will run on *****GPU-CUDA*****\n",
      "\n",
      "Loading checkpoint 'experiments\\vgg16_exp_cifar100_0\\checkpoints\\checkpoint.pth'\n",
      "Checkpoint loaded successfully at (epoch 240) at (iteration 93840)\n",
      "\n"
     ]
    }
   ],
   "source": [
    "new_model = new_vgg16(num_classes = 100)\n",
    "new_model.init_graph(config)\n",
    "new_model.load_checkpoint(config.load_file)\n",
    "new_model = new_model.to(device)"
   ]
  },
  {
   "cell_type": "code",
   "execution_count": 3,
   "metadata": {},
   "outputs": [],
   "source": [
    "import pickle\n",
    "\n",
    "with open('Record_relevance_VGG16_Transform_3class_top20_1.txt', 'rb') as f:\n",
    "    record_stayed_nodes = pickle.load(f) # 단 한줄씩 읽어옴"
   ]
  },
  {
   "cell_type": "code",
   "execution_count": 4,
   "metadata": {},
   "outputs": [
    {
     "data": {
      "text/plain": [
       "(300, 20, 17)"
      ]
     },
     "execution_count": 4,
     "metadata": {},
     "output_type": "execute_result"
    }
   ],
   "source": [
    "record_stayed_nodes.shape"
   ]
  },
  {
   "cell_type": "code",
   "execution_count": 5,
   "metadata": {},
   "outputs": [],
   "source": [
    "indices_stayed_list =[]\n",
    "\n",
    "for i in range(1,17):\n",
    "    indices_stayed_list.append(set(np.unique(record_stayed_nodes[:,:4,i])))"
   ]
  },
  {
   "cell_type": "code",
   "execution_count": 6,
   "metadata": {},
   "outputs": [],
   "source": [
    "stayed_list = []\n",
    "\n",
    "def truncate_str(x, cnt):\n",
    "    new_list = []\n",
    "    for i in x:\n",
    "        item = i[cnt:]\n",
    "        new_list.append(int(item))\n",
    "    return new_list\n",
    "\n",
    "for i in range(16):\n",
    "    if i < 6:\n",
    "        stayed_list.append(truncate_str(indices_stayed_list[i], cnt = 4))\n",
    "    else:\n",
    "        stayed_list.append(truncate_str(indices_stayed_list[i], cnt = 3))\n"
   ]
  },
  {
   "cell_type": "code",
   "execution_count": 7,
   "metadata": {},
   "outputs": [],
   "source": [
    "from prune.channel import *"
   ]
  },
  {
   "cell_type": "code",
   "execution_count": 8,
   "metadata": {},
   "outputs": [
    {
     "name": "stdout",
     "output_type": "stream",
     "text": [
      "Conv2d(64, 64, kernel_size=(3, 3), stride=(1, 1), padding=(1, 1))\n",
      "Conv2d(64, 128, kernel_size=(3, 3), stride=(1, 1), padding=(1, 1))\n",
      "14\n",
      "Conv2d(14, 128, kernel_size=(3, 3), stride=(1, 1), padding=(1, 1))\n",
      "Conv2d(128, 128, kernel_size=(3, 3), stride=(1, 1), padding=(1, 1))\n",
      "62\n",
      "Conv2d(62, 128, kernel_size=(3, 3), stride=(1, 1), padding=(1, 1))\n",
      "Conv2d(128, 256, kernel_size=(3, 3), stride=(1, 1), padding=(1, 1))\n",
      "77\n",
      "Conv2d(77, 256, kernel_size=(3, 3), stride=(1, 1), padding=(1, 1))\n",
      "Conv2d(256, 256, kernel_size=(3, 3), stride=(1, 1), padding=(1, 1))\n",
      "127\n",
      "Conv2d(127, 256, kernel_size=(3, 3), stride=(1, 1), padding=(1, 1))\n",
      "Conv2d(256, 256, kernel_size=(3, 3), stride=(1, 1), padding=(1, 1))\n",
      "155\n",
      "Conv2d(155, 256, kernel_size=(3, 3), stride=(1, 1), padding=(1, 1))\n",
      "Conv2d(256, 512, kernel_size=(3, 3), stride=(1, 1), padding=(1, 1))\n",
      "153\n",
      "Conv2d(153, 512, kernel_size=(3, 3), stride=(1, 1), padding=(1, 1))\n",
      "Conv2d(512, 512, kernel_size=(3, 3), stride=(1, 1), padding=(1, 1))\n",
      "226\n",
      "Conv2d(226, 512, kernel_size=(3, 3), stride=(1, 1), padding=(1, 1))\n",
      "Conv2d(512, 512, kernel_size=(3, 3), stride=(1, 1), padding=(1, 1))\n",
      "238\n",
      "Conv2d(238, 512, kernel_size=(3, 3), stride=(1, 1), padding=(1, 1))\n",
      "Conv2d(512, 512, kernel_size=(3, 3), stride=(1, 1), padding=(1, 1))\n",
      "190\n",
      "Conv2d(190, 512, kernel_size=(3, 3), stride=(1, 1), padding=(1, 1))\n",
      "Conv2d(512, 512, kernel_size=(3, 3), stride=(1, 1), padding=(1, 1))\n",
      "79\n",
      "Conv2d(79, 512, kernel_size=(3, 3), stride=(1, 1), padding=(1, 1))\n",
      "Conv2d(512, 512, kernel_size=(3, 3), stride=(1, 1), padding=(1, 1))\n",
      "94\n",
      "Conv2d(94, 512, kernel_size=(3, 3), stride=(1, 1), padding=(1, 1))\n",
      "Linear(in_features=512, out_features=4096, bias=True)\n",
      "114\n"
     ]
    }
   ],
   "source": [
    "for i, m in enumerate(new_model.named_conv_list.values()):\n",
    "    if isinstance(m, torch.nn.Conv2d) and i >0 :\n",
    "        bn = new_model.named_modules_list[str(i) + '.bn']\n",
    "        if str(i + 1) + '.conv' in model.named_conv_list:\n",
    "            next_m = new_model.named_modules_list[str(i + 1) + '.conv']\n",
    "        else:\n",
    "            next_m = new_model.classifier[0]\n",
    "\n",
    "        indices_stayed = sorted(stayed_list[-(i+2)])\n",
    "        print(m)\n",
    "        print(next_m)\n",
    "        print(len(indices_stayed))\n",
    "        module_surgery(m, bn, next_m, indices_stayed)\n",
    "        \n",
    "# cnt = 1\n",
    "# for idx, m in enumerate(reversed(model.total_module_list)):\n",
    "#     if 12<idx<15:\n",
    "\n",
    "#         next_m = model.total_module_list[cnt]\n",
    "#         indices_stayed= sorted(stayed_list[cnt])\n",
    "#         linear_surgery(m, next_m,  indices_stayed)\n",
    "#         cnt -= 1  \n",
    "#         print(m)\n",
    "#         print(next_m)\n",
    "#         print(len(indices_stayed))"
   ]
  },
  {
   "cell_type": "code",
   "execution_count": 9,
   "metadata": {
    "scrolled": true
   },
   "outputs": [
    {
     "name": "stdout",
     "output_type": "stream",
     "text": [
      "Files already downloaded and verified\n"
     ]
    },
    {
     "name": "stderr",
     "output_type": "stream",
     "text": [
      "Epoch-0-: 100%|██████████████████████████████████████████████████████████████████████| 391/391 [00:20<00:00, 19.23it/s]\n",
      "Valiation at -0-:   0%|                                                                         | 0/79 [00:00<?, ?it/s]"
     ]
    },
    {
     "name": "stdout",
     "output_type": "stream",
     "text": [
      "Training at epoch-0 | loss: 4.412174574859307\tTop1 Acc: 0.06511999999761582\n"
     ]
    },
    {
     "name": "stderr",
     "output_type": "stream",
     "text": [
      "Valiation at -0-: 100%|████████████████████████████████████████████████████████████████| 79/79 [00:04<00:00, 19.39it/s]\n",
      "C:\\Users\\USER001\\miniconda3\\envs\\pytorch16\\lib\\site-packages\\torch\\optim\\lr_scheduler.py:143: UserWarning: The epoch parameter in `scheduler.step()` was not necessary and is being deprecated where possible. Please use `scheduler.step()` to step the scheduler. During the deprecation, if epoch is different from None, the closed form is used instead of the new chainable form, where available. Please open an issue if you are unable to replicate your use case: https://github.com/pytorch/pytorch/issues/new/choose.\n",
      "  warnings.warn(EPOCH_DEPRECATION_WARNING, UserWarning)\n",
      "Epoch-1-:   0%|                                                                                | 0/391 [00:00<?, ?it/s]"
     ]
    },
    {
     "name": "stdout",
     "output_type": "stream",
     "text": [
      "Validation results at epoch-0 | loss: 4.073745326150822\tTop1 Acc: 0.1249\n"
     ]
    },
    {
     "name": "stderr",
     "output_type": "stream",
     "text": [
      "Epoch-1-: 100%|██████████████████████████████████████████████████████████████████████| 391/391 [00:23<00:00, 16.95it/s]\n",
      "Valiation at -1-:   0%|                                                                         | 0/79 [00:00<?, ?it/s]"
     ]
    },
    {
     "name": "stdout",
     "output_type": "stream",
     "text": [
      "Training at epoch-1 | loss: 3.890758554648865\tTop1 Acc: 0.15027999999523162\n"
     ]
    },
    {
     "name": "stderr",
     "output_type": "stream",
     "text": [
      "Valiation at -1-: 100%|████████████████████████████████████████████████████████████████| 79/79 [00:04<00:00, 17.90it/s]\n",
      "Epoch-2-:   0%|                                                                                | 0/391 [00:00<?, ?it/s]"
     ]
    },
    {
     "name": "stdout",
     "output_type": "stream",
     "text": [
      "Validation results at epoch-1 | loss: 3.60138918176482\tTop1 Acc: 0.192\n"
     ]
    },
    {
     "name": "stderr",
     "output_type": "stream",
     "text": [
      "Epoch-2-: 100%|██████████████████████████████████████████████████████████████████████| 391/391 [00:21<00:00, 18.03it/s]\n",
      "Valiation at -2-:   0%|                                                                         | 0/79 [00:00<?, ?it/s]"
     ]
    },
    {
     "name": "stdout",
     "output_type": "stream",
     "text": [
      "Training at epoch-2 | loss: 3.4174137670365745\tTop1 Acc: 0.2406200000190735\n"
     ]
    },
    {
     "name": "stderr",
     "output_type": "stream",
     "text": [
      "Valiation at -2-: 100%|████████████████████████████████████████████████████████████████| 79/79 [00:04<00:00, 16.53it/s]\n",
      "Epoch-3-:   0%|                                                                                | 0/391 [00:00<?, ?it/s]"
     ]
    },
    {
     "name": "stdout",
     "output_type": "stream",
     "text": [
      "Validation results at epoch-2 | loss: 3.090388593794424\tTop1 Acc: 0.3057\n"
     ]
    },
    {
     "name": "stderr",
     "output_type": "stream",
     "text": [
      "Epoch-3-: 100%|██████████████████████████████████████████████████████████████████████| 391/391 [00:18<00:00, 21.72it/s]\n",
      "Valiation at -3-:   0%|                                                                         | 0/79 [00:00<?, ?it/s]"
     ]
    },
    {
     "name": "stdout",
     "output_type": "stream",
     "text": [
      "Training at epoch-3 | loss: 2.879962343693999\tTop1 Acc: 0.35461999999046323\n"
     ]
    },
    {
     "name": "stderr",
     "output_type": "stream",
     "text": [
      "Valiation at -3-: 100%|████████████████████████████████████████████████████████████████| 79/79 [00:04<00:00, 16.56it/s]\n",
      "Epoch-4-:   0%|                                                                                | 0/391 [00:00<?, ?it/s]"
     ]
    },
    {
     "name": "stdout",
     "output_type": "stream",
     "text": [
      "Validation results at epoch-3 | loss: 2.53737015663823\tTop1 Acc: 0.4169\n"
     ]
    },
    {
     "name": "stderr",
     "output_type": "stream",
     "text": [
      "Epoch-4-: 100%|██████████████████████████████████████████████████████████████████████| 391/391 [00:15<00:00, 24.62it/s]\n",
      "Valiation at -4-:   0%|                                                                         | 0/79 [00:00<?, ?it/s]"
     ]
    },
    {
     "name": "stdout",
     "output_type": "stream",
     "text": [
      "Training at epoch-4 | loss: 2.3287014214279096\tTop1 Acc: 0.46972000002861025\n"
     ]
    },
    {
     "name": "stderr",
     "output_type": "stream",
     "text": [
      "Valiation at -4-: 100%|████████████████████████████████████████████████████████████████| 79/79 [00:04<00:00, 15.98it/s]\n",
      "Epoch-5-:   0%|                                                                                | 0/391 [00:00<?, ?it/s]"
     ]
    },
    {
     "name": "stdout",
     "output_type": "stream",
     "text": [
      "Validation results at epoch-4 | loss: 2.0929871390137493\tTop1 Acc: 0.5024\n"
     ]
    },
    {
     "name": "stderr",
     "output_type": "stream",
     "text": [
      "Epoch-5-: 100%|██████████████████████████████████████████████████████████████████████| 391/391 [00:17<00:00, 22.74it/s]\n",
      "Valiation at -5-:   0%|                                                                         | 0/79 [00:00<?, ?it/s]"
     ]
    },
    {
     "name": "stdout",
     "output_type": "stream",
     "text": [
      "Training at epoch-5 | loss: 1.8922135464065826\tTop1 Acc: 0.5533600000190735\n"
     ]
    },
    {
     "name": "stderr",
     "output_type": "stream",
     "text": [
      "Valiation at -5-: 100%|████████████████████████████████████████████████████████████████| 79/79 [00:04<00:00, 16.71it/s]\n",
      "Epoch-6-:   0%|                                                                                | 0/391 [00:00<?, ?it/s]"
     ]
    },
    {
     "name": "stdout",
     "output_type": "stream",
     "text": [
      "Validation results at epoch-5 | loss: 1.8171377423443371\tTop1 Acc: 0.5557\n"
     ]
    },
    {
     "name": "stderr",
     "output_type": "stream",
     "text": [
      "Epoch-6-: 100%|██████████████████████████████████████████████████████████████████████| 391/391 [00:20<00:00, 19.07it/s]\n",
      "Valiation at -6-:   0%|                                                                         | 0/79 [00:00<?, ?it/s]"
     ]
    },
    {
     "name": "stdout",
     "output_type": "stream",
     "text": [
      "Training at epoch-6 | loss: 1.5889117345785546\tTop1 Acc: 0.6089600000572205\n"
     ]
    },
    {
     "name": "stderr",
     "output_type": "stream",
     "text": [
      "Valiation at -6-: 100%|████████████████████████████████████████████████████████████████| 79/79 [00:05<00:00, 13.88it/s]\n",
      "Epoch-7-:   0%|                                                                                | 0/391 [00:00<?, ?it/s]"
     ]
    },
    {
     "name": "stdout",
     "output_type": "stream",
     "text": [
      "Validation results at epoch-6 | loss: 1.645741651329813\tTop1 Acc: 0.5891\n"
     ]
    },
    {
     "name": "stderr",
     "output_type": "stream",
     "text": [
      "Epoch-7-: 100%|██████████████████████████████████████████████████████████████████████| 391/391 [00:22<00:00, 17.35it/s]\n",
      "Valiation at -7-:   0%|                                                                         | 0/79 [00:00<?, ?it/s]"
     ]
    },
    {
     "name": "stdout",
     "output_type": "stream",
     "text": [
      "Training at epoch-7 | loss: 1.3830406412749034\tTop1 Acc: 0.6513199999809265\n"
     ]
    },
    {
     "name": "stderr",
     "output_type": "stream",
     "text": [
      "Valiation at -7-: 100%|████████████████████████████████████████████████████████████████| 79/79 [00:04<00:00, 15.94it/s]\n",
      "Epoch-8-:   0%|                                                                                | 0/391 [00:00<?, ?it/s]"
     ]
    },
    {
     "name": "stdout",
     "output_type": "stream",
     "text": [
      "Validation results at epoch-7 | loss: 1.5511312318753592\tTop1 Acc: 0.603\n"
     ]
    },
    {
     "name": "stderr",
     "output_type": "stream",
     "text": [
      "Epoch-8-: 100%|██████████████████████████████████████████████████████████████████████| 391/391 [00:20<00:00, 19.14it/s]\n",
      "Valiation at -8-:   0%|                                                                         | 0/79 [00:00<?, ?it/s]"
     ]
    },
    {
     "name": "stdout",
     "output_type": "stream",
     "text": [
      "Training at epoch-8 | loss: 1.240836457065914\tTop1 Acc: 0.6810000000190735\n"
     ]
    },
    {
     "name": "stderr",
     "output_type": "stream",
     "text": [
      "Valiation at -8-: 100%|████████████████████████████████████████████████████████████████| 79/79 [00:05<00:00, 15.12it/s]\n",
      "Epoch-9-:   0%|                                                                                | 0/391 [00:00<?, ?it/s]"
     ]
    },
    {
     "name": "stdout",
     "output_type": "stream",
     "text": [
      "Validation results at epoch-8 | loss: 1.5079861245577848\tTop1 Acc: 0.6154\n"
     ]
    },
    {
     "name": "stderr",
     "output_type": "stream",
     "text": [
      "Epoch-9-: 100%|██████████████████████████████████████████████████████████████████████| 391/391 [00:17<00:00, 22.34it/s]\n",
      "Valiation at -9-:   0%|                                                                         | 0/79 [00:00<?, ?it/s]"
     ]
    },
    {
     "name": "stdout",
     "output_type": "stream",
     "text": [
      "Training at epoch-9 | loss: 1.1251485757815562\tTop1 Acc: 0.7050600000190735\n"
     ]
    },
    {
     "name": "stderr",
     "output_type": "stream",
     "text": [
      "Valiation at -9-: 100%|████████████████████████████████████████████████████████████████| 79/79 [00:05<00:00, 15.61it/s]\n",
      "Epoch-10-:   0%|                                                                               | 0/391 [00:00<?, ?it/s]"
     ]
    },
    {
     "name": "stdout",
     "output_type": "stream",
     "text": [
      "Validation results at epoch-9 | loss: 1.481308184092558\tTop1 Acc: 0.6202\n"
     ]
    },
    {
     "name": "stderr",
     "output_type": "stream",
     "text": [
      "Epoch-10-: 100%|█████████████████████████████████████████████████████████████████████| 391/391 [00:16<00:00, 23.36it/s]\n",
      "Valiation at -10-:   0%|                                                                        | 0/79 [00:00<?, ?it/s]"
     ]
    },
    {
     "name": "stdout",
     "output_type": "stream",
     "text": [
      "Training at epoch-10 | loss: 1.0407763161622654\tTop1 Acc: 0.726160000038147\n"
     ]
    },
    {
     "name": "stderr",
     "output_type": "stream",
     "text": [
      "Valiation at -10-: 100%|███████████████████████████████████████████████████████████████| 79/79 [00:05<00:00, 14.87it/s]\n",
      "Epoch-11-:   0%|                                                                               | 0/391 [00:00<?, ?it/s]"
     ]
    },
    {
     "name": "stdout",
     "output_type": "stream",
     "text": [
      "Validation results at epoch-10 | loss: 1.4425620398943937\tTop1 Acc: 0.6305\n"
     ]
    },
    {
     "name": "stderr",
     "output_type": "stream",
     "text": [
      "Epoch-11-: 100%|█████████████████████████████████████████████████████████████████████| 391/391 [00:18<00:00, 21.36it/s]\n",
      "Valiation at -11-:   0%|                                                                        | 0/79 [00:00<?, ?it/s]"
     ]
    },
    {
     "name": "stdout",
     "output_type": "stream",
     "text": [
      "Training at epoch-11 | loss: 0.952728780334258\tTop1 Acc: 0.74488\n"
     ]
    },
    {
     "name": "stderr",
     "output_type": "stream",
     "text": [
      "Valiation at -11-: 100%|███████████████████████████████████████████████████████████████| 79/79 [00:04<00:00, 16.15it/s]\n",
      "Epoch-12-:   0%|                                                                               | 0/391 [00:00<?, ?it/s]"
     ]
    },
    {
     "name": "stdout",
     "output_type": "stream",
     "text": [
      "Validation results at epoch-11 | loss: 1.4334460768518569\tTop1 Acc: 0.6368\n"
     ]
    },
    {
     "name": "stderr",
     "output_type": "stream",
     "text": [
      "Epoch-12-: 100%|█████████████████████████████████████████████████████████████████████| 391/391 [00:22<00:00, 17.34it/s]\n",
      "Valiation at -12-:   0%|                                                                        | 0/79 [00:00<?, ?it/s]"
     ]
    },
    {
     "name": "stdout",
     "output_type": "stream",
     "text": [
      "Training at epoch-12 | loss: 0.8887912377981884\tTop1 Acc: 0.75974\n"
     ]
    },
    {
     "name": "stderr",
     "output_type": "stream",
     "text": [
      "Valiation at -12-: 100%|███████████████████████████████████████████████████████████████| 79/79 [00:04<00:00, 16.08it/s]\n",
      "Epoch-13-:   0%|                                                                               | 0/391 [00:00<?, ?it/s]"
     ]
    },
    {
     "name": "stdout",
     "output_type": "stream",
     "text": [
      "Validation results at epoch-12 | loss: 1.415585800062252\tTop1 Acc: 0.6391\n"
     ]
    },
    {
     "name": "stderr",
     "output_type": "stream",
     "text": [
      "Epoch-13-: 100%|█████████████████████████████████████████████████████████████████████| 391/391 [00:21<00:00, 18.08it/s]\n",
      "Valiation at -13-:   0%|                                                                        | 0/79 [00:00<?, ?it/s]"
     ]
    },
    {
     "name": "stdout",
     "output_type": "stream",
     "text": [
      "Training at epoch-13 | loss: 0.8488002556669133\tTop1 Acc: 0.7685399999809265\n"
     ]
    },
    {
     "name": "stderr",
     "output_type": "stream",
     "text": [
      "Valiation at -13-: 100%|███████████████████████████████████████████████████████████████| 79/79 [00:05<00:00, 14.66it/s]\n",
      "Epoch-14-:   0%|                                                                               | 0/391 [00:00<?, ?it/s]"
     ]
    },
    {
     "name": "stdout",
     "output_type": "stream",
     "text": [
      "Validation results at epoch-13 | loss: 1.4141895182525055\tTop1 Acc: 0.6414\n"
     ]
    },
    {
     "name": "stderr",
     "output_type": "stream",
     "text": [
      "Epoch-14-: 100%|█████████████████████████████████████████████████████████████████████| 391/391 [00:18<00:00, 20.58it/s]\n",
      "Valiation at -14-:   0%|                                                                        | 0/79 [00:00<?, ?it/s]"
     ]
    },
    {
     "name": "stdout",
     "output_type": "stream",
     "text": [
      "Training at epoch-14 | loss: 0.8043243234114879\tTop1 Acc: 0.7783200000190735\n"
     ]
    },
    {
     "name": "stderr",
     "output_type": "stream",
     "text": [
      "Valiation at -14-: 100%|███████████████████████████████████████████████████████████████| 79/79 [00:05<00:00, 15.65it/s]\n",
      "Epoch-15-:   0%|                                                                               | 0/391 [00:00<?, ?it/s]"
     ]
    },
    {
     "name": "stdout",
     "output_type": "stream",
     "text": [
      "Validation results at epoch-14 | loss: 1.444866324527354\tTop1 Acc: 0.6367\n"
     ]
    },
    {
     "name": "stderr",
     "output_type": "stream",
     "text": [
      "Epoch-15-: 100%|█████████████████████████████████████████████████████████████████████| 391/391 [00:16<00:00, 24.17it/s]\n",
      "Valiation at -15-:   0%|                                                                        | 0/79 [00:00<?, ?it/s]"
     ]
    },
    {
     "name": "stdout",
     "output_type": "stream",
     "text": [
      "Training at epoch-15 | loss: 0.768565565500113\tTop1 Acc: 0.7856800000190735\n"
     ]
    },
    {
     "name": "stderr",
     "output_type": "stream",
     "text": [
      "Valiation at -15-: 100%|███████████████████████████████████████████████████████████████| 79/79 [00:05<00:00, 13.98it/s]\n",
      "Epoch-16-:   0%|                                                                               | 0/391 [00:00<?, ?it/s]"
     ]
    },
    {
     "name": "stdout",
     "output_type": "stream",
     "text": [
      "Validation results at epoch-15 | loss: 1.4223177206667164\tTop1 Acc: 0.6421\n"
     ]
    },
    {
     "name": "stderr",
     "output_type": "stream",
     "text": [
      "Epoch-16-: 100%|█████████████████████████████████████████████████████████████████████| 391/391 [00:17<00:00, 22.25it/s]\n",
      "Valiation at -16-:   0%|                                                                        | 0/79 [00:00<?, ?it/s]"
     ]
    },
    {
     "name": "stdout",
     "output_type": "stream",
     "text": [
      "Training at epoch-16 | loss: 0.7234260252369639\tTop1 Acc: 0.7999199999809266\n"
     ]
    },
    {
     "name": "stderr",
     "output_type": "stream",
     "text": [
      "Valiation at -16-: 100%|███████████████████████████████████████████████████████████████| 79/79 [00:04<00:00, 15.99it/s]\n",
      "Epoch-17-:   0%|                                                                               | 0/391 [00:00<?, ?it/s]"
     ]
    },
    {
     "name": "stdout",
     "output_type": "stream",
     "text": [
      "Validation results at epoch-16 | loss: 1.4290766368938397\tTop1 Acc: 0.6448\n"
     ]
    },
    {
     "name": "stderr",
     "output_type": "stream",
     "text": [
      "Epoch-17-: 100%|█████████████████████████████████████████████████████████████████████| 391/391 [00:19<00:00, 20.17it/s]\n",
      "Valiation at -17-:   0%|                                                                        | 0/79 [00:00<?, ?it/s]"
     ]
    },
    {
     "name": "stdout",
     "output_type": "stream",
     "text": [
      "Training at epoch-17 | loss: 0.6881627240754149\tTop1 Acc: 0.80582\n"
     ]
    },
    {
     "name": "stderr",
     "output_type": "stream",
     "text": [
      "Valiation at -17-: 100%|███████████████████████████████████████████████████████████████| 79/79 [00:04<00:00, 15.86it/s]\n",
      "Epoch-18-:   0%|                                                                               | 0/391 [00:00<?, ?it/s]"
     ]
    },
    {
     "name": "stdout",
     "output_type": "stream",
     "text": [
      "Validation results at epoch-17 | loss: 1.4110784485370298\tTop1 Acc: 0.6491\n"
     ]
    },
    {
     "name": "stderr",
     "output_type": "stream",
     "text": [
      "Epoch-18-: 100%|█████████████████████████████████████████████████████████████████████| 391/391 [00:22<00:00, 17.40it/s]\n",
      "Valiation at -18-:   0%|                                                                        | 0/79 [00:00<?, ?it/s]"
     ]
    },
    {
     "name": "stdout",
     "output_type": "stream",
     "text": [
      "Training at epoch-18 | loss: 0.6668217195116956\tTop1 Acc: 0.812140000038147\n"
     ]
    },
    {
     "name": "stderr",
     "output_type": "stream",
     "text": [
      "Valiation at -18-: 100%|███████████████████████████████████████████████████████████████| 79/79 [00:04<00:00, 16.15it/s]\n",
      "Epoch-19-:   0%|                                                                               | 0/391 [00:00<?, ?it/s]"
     ]
    },
    {
     "name": "stdout",
     "output_type": "stream",
     "text": [
      "Validation results at epoch-18 | loss: 1.420605766622326\tTop1 Acc: 0.6502\n"
     ]
    },
    {
     "name": "stderr",
     "output_type": "stream",
     "text": [
      "Epoch-19-: 100%|█████████████████████████████████████████████████████████████████████| 391/391 [00:22<00:00, 17.14it/s]\n",
      "Valiation at -19-:   0%|                                                                        | 0/79 [00:00<?, ?it/s]"
     ]
    },
    {
     "name": "stdout",
     "output_type": "stream",
     "text": [
      "Training at epoch-19 | loss: 0.6372637799023972\tTop1 Acc: 0.820460000038147\n"
     ]
    },
    {
     "name": "stderr",
     "output_type": "stream",
     "text": [
      "Valiation at -19-: 100%|███████████████████████████████████████████████████████████████| 79/79 [00:04<00:00, 17.14it/s]\n",
      "Epoch-20-:   0%|                                                                               | 0/391 [00:00<?, ?it/s]"
     ]
    },
    {
     "name": "stdout",
     "output_type": "stream",
     "text": [
      "Validation results at epoch-19 | loss: 1.4008822848525229\tTop1 Acc: 0.6543\n"
     ]
    },
    {
     "name": "stderr",
     "output_type": "stream",
     "text": [
      "Epoch-20-: 100%|█████████████████████████████████████████████████████████████████████| 391/391 [00:21<00:00, 18.25it/s]\n",
      "Valiation at -20-:   0%|                                                                        | 0/79 [00:00<?, ?it/s]"
     ]
    },
    {
     "name": "stdout",
     "output_type": "stream",
     "text": [
      "Training at epoch-20 | loss: 0.6256213249910213\tTop1 Acc: 0.8227000000572204\n"
     ]
    },
    {
     "name": "stderr",
     "output_type": "stream",
     "text": [
      "Valiation at -20-: 100%|███████████████████████████████████████████████████████████████| 79/79 [00:05<00:00, 15.66it/s]\n",
      "Epoch-21-:   0%|                                                                               | 0/391 [00:00<?, ?it/s]"
     ]
    },
    {
     "name": "stdout",
     "output_type": "stream",
     "text": [
      "Validation results at epoch-20 | loss: 1.43239882626111\tTop1 Acc: 0.6495\n"
     ]
    },
    {
     "name": "stderr",
     "output_type": "stream",
     "text": [
      "Epoch-21-: 100%|█████████████████████████████████████████████████████████████████████| 391/391 [00:19<00:00, 19.94it/s]\n",
      "Valiation at -21-:   0%|                                                                        | 0/79 [00:00<?, ?it/s]"
     ]
    },
    {
     "name": "stdout",
     "output_type": "stream",
     "text": [
      "Training at epoch-21 | loss: 0.5886024985167072\tTop1 Acc: 0.8316000000572205\n"
     ]
    },
    {
     "name": "stderr",
     "output_type": "stream",
     "text": [
      "Valiation at -21-: 100%|███████████████████████████████████████████████████████████████| 79/79 [00:05<00:00, 15.33it/s]\n",
      "Epoch-22-:   0%|                                                                               | 0/391 [00:00<?, ?it/s]"
     ]
    },
    {
     "name": "stdout",
     "output_type": "stream",
     "text": [
      "Validation results at epoch-21 | loss: 1.421092243134221\tTop1 Acc: 0.6509\n"
     ]
    },
    {
     "name": "stderr",
     "output_type": "stream",
     "text": [
      "Epoch-22-: 100%|█████████████████████████████████████████████████████████████████████| 391/391 [00:16<00:00, 23.89it/s]\n",
      "Valiation at -22-:   0%|                                                                        | 0/79 [00:00<?, ?it/s]"
     ]
    },
    {
     "name": "stdout",
     "output_type": "stream",
     "text": [
      "Training at epoch-22 | loss: 0.5691203317221474\tTop1 Acc: 0.8379000000572204\n"
     ]
    },
    {
     "name": "stderr",
     "output_type": "stream",
     "text": [
      "Valiation at -22-: 100%|███████████████████████████████████████████████████████████████| 79/79 [00:04<00:00, 15.87it/s]\n",
      "Epoch-23-:   0%|                                                                               | 0/391 [00:00<?, ?it/s]"
     ]
    },
    {
     "name": "stdout",
     "output_type": "stream",
     "text": [
      "Validation results at epoch-22 | loss: 1.4087182856813263\tTop1 Acc: 0.6516\n"
     ]
    },
    {
     "name": "stderr",
     "output_type": "stream",
     "text": [
      "Epoch-23-: 100%|█████████████████████████████████████████████████████████████████████| 391/391 [00:17<00:00, 22.44it/s]\n",
      "Valiation at -23-:   0%|                                                                        | 0/79 [00:00<?, ?it/s]"
     ]
    },
    {
     "name": "stdout",
     "output_type": "stream",
     "text": [
      "Training at epoch-23 | loss: 0.5601214343477088\tTop1 Acc: 0.8376200000572205\n"
     ]
    },
    {
     "name": "stderr",
     "output_type": "stream",
     "text": [
      "Valiation at -23-: 100%|███████████████████████████████████████████████████████████████| 79/79 [00:04<00:00, 16.56it/s]\n",
      "Epoch-24-:   0%|                                                                               | 0/391 [00:00<?, ?it/s]"
     ]
    },
    {
     "name": "stdout",
     "output_type": "stream",
     "text": [
      "Validation results at epoch-23 | loss: 1.4206610065472276\tTop1 Acc: 0.6599\n"
     ]
    },
    {
     "name": "stderr",
     "output_type": "stream",
     "text": [
      "Epoch-24-: 100%|█████████████████████████████████████████████████████████████████████| 391/391 [00:19<00:00, 20.51it/s]\n",
      "Valiation at -24-:   0%|                                                                        | 0/79 [00:00<?, ?it/s]"
     ]
    },
    {
     "name": "stdout",
     "output_type": "stream",
     "text": [
      "Training at epoch-24 | loss: 0.5344986457120428\tTop1 Acc: 0.8469399999809265\n"
     ]
    },
    {
     "name": "stderr",
     "output_type": "stream",
     "text": [
      "Valiation at -24-: 100%|███████████████████████████████████████████████████████████████| 79/79 [00:04<00:00, 16.22it/s]\n",
      "Epoch-25-:   0%|                                                                               | 0/391 [00:00<?, ?it/s]"
     ]
    },
    {
     "name": "stdout",
     "output_type": "stream",
     "text": [
      "Validation results at epoch-24 | loss: 1.4227902406378636\tTop1 Acc: 0.6601\n"
     ]
    },
    {
     "name": "stderr",
     "output_type": "stream",
     "text": [
      "Epoch-25-: 100%|█████████████████████████████████████████████████████████████████████| 391/391 [00:21<00:00, 17.82it/s]\n",
      "Valiation at -25-:   0%|                                                                        | 0/79 [00:00<?, ?it/s]"
     ]
    },
    {
     "name": "stdout",
     "output_type": "stream",
     "text": [
      "Training at epoch-25 | loss: 0.5120061087181501\tTop1 Acc: 0.85212\n"
     ]
    },
    {
     "name": "stderr",
     "output_type": "stream",
     "text": [
      "Valiation at -25-: 100%|███████████████████████████████████████████████████████████████| 79/79 [00:04<00:00, 16.27it/s]\n",
      "Epoch-26-:   0%|                                                                               | 0/391 [00:00<?, ?it/s]"
     ]
    },
    {
     "name": "stdout",
     "output_type": "stream",
     "text": [
      "Validation results at epoch-25 | loss: 1.415594808662994\tTop1 Acc: 0.6587\n"
     ]
    },
    {
     "name": "stderr",
     "output_type": "stream",
     "text": [
      "Epoch-26-: 100%|█████████████████████████████████████████████████████████████████████| 391/391 [00:21<00:00, 17.88it/s]\n",
      "Valiation at -26-:   0%|                                                                        | 0/79 [00:00<?, ?it/s]"
     ]
    },
    {
     "name": "stdout",
     "output_type": "stream",
     "text": [
      "Training at epoch-26 | loss: 0.49108364034796614\tTop1 Acc: 0.8577799999809265\n"
     ]
    },
    {
     "name": "stderr",
     "output_type": "stream",
     "text": [
      "Valiation at -26-: 100%|███████████████████████████████████████████████████████████████| 79/79 [00:03<00:00, 20.56it/s]\n",
      "Epoch-27-:   0%|                                                                               | 0/391 [00:00<?, ?it/s]"
     ]
    },
    {
     "name": "stdout",
     "output_type": "stream",
     "text": [
      "Validation results at epoch-26 | loss: 1.4523749487309516\tTop1 Acc: 0.6564\n"
     ]
    },
    {
     "name": "stderr",
     "output_type": "stream",
     "text": [
      "Epoch-27-: 100%|█████████████████████████████████████████████████████████████████████| 391/391 [00:17<00:00, 22.04it/s]\n",
      "Valiation at -27-:   0%|                                                                        | 0/79 [00:00<?, ?it/s]"
     ]
    },
    {
     "name": "stdout",
     "output_type": "stream",
     "text": [
      "Training at epoch-27 | loss: 0.47203568336756335\tTop1 Acc: 0.8639000000190735\n"
     ]
    },
    {
     "name": "stderr",
     "output_type": "stream",
     "text": [
      "Valiation at -27-: 100%|███████████████████████████████████████████████████████████████| 79/79 [00:03<00:00, 21.02it/s]\n",
      "Epoch-28-:   0%|                                                                               | 0/391 [00:00<?, ?it/s]"
     ]
    },
    {
     "name": "stdout",
     "output_type": "stream",
     "text": [
      "Validation results at epoch-27 | loss: 1.42950783952882\tTop1 Acc: 0.6603\n"
     ]
    },
    {
     "name": "stderr",
     "output_type": "stream",
     "text": [
      "Epoch-28-: 100%|█████████████████████████████████████████████████████████████████████| 391/391 [00:17<00:00, 22.31it/s]\n",
      "Valiation at -28-:   0%|                                                                        | 0/79 [00:00<?, ?it/s]"
     ]
    },
    {
     "name": "stdout",
     "output_type": "stream",
     "text": [
      "Training at epoch-28 | loss: 0.4655297397042784\tTop1 Acc: 0.8642200000572204\n"
     ]
    },
    {
     "name": "stderr",
     "output_type": "stream",
     "text": [
      "Valiation at -28-: 100%|███████████████████████████████████████████████████████████████| 79/79 [00:03<00:00, 21.21it/s]\n",
      "Epoch-29-:   0%|                                                                               | 0/391 [00:00<?, ?it/s]"
     ]
    },
    {
     "name": "stdout",
     "output_type": "stream",
     "text": [
      "Validation results at epoch-28 | loss: 1.4481663205955602\tTop1 Acc: 0.6574\n"
     ]
    },
    {
     "name": "stderr",
     "output_type": "stream",
     "text": [
      "Epoch-29-: 100%|█████████████████████████████████████████████████████████████████████| 391/391 [00:17<00:00, 22.24it/s]\n",
      "Valiation at -29-:   0%|                                                                        | 0/79 [00:00<?, ?it/s]"
     ]
    },
    {
     "name": "stdout",
     "output_type": "stream",
     "text": [
      "Training at epoch-29 | loss: 0.4584489378249249\tTop1 Acc: 0.866860000038147\n"
     ]
    },
    {
     "name": "stderr",
     "output_type": "stream",
     "text": [
      "Valiation at -29-: 100%|███████████████████████████████████████████████████████████████| 79/79 [00:03<00:00, 21.22it/s]"
     ]
    },
    {
     "name": "stdout",
     "output_type": "stream",
     "text": [
      "Validation results at epoch-29 | loss: 1.4606823785395562\tTop1 Acc: 0.6571\n"
     ]
    },
    {
     "name": "stderr",
     "output_type": "stream",
     "text": [
      "\n"
     ]
    }
   ],
   "source": [
    "best_valid_acc, history  = new_model.model_train(config)"
   ]
  },
  {
   "cell_type": "code",
   "execution_count": 10,
   "metadata": {},
   "outputs": [
    {
     "data": {
      "text/plain": [
       "0.6603"
      ]
     },
     "execution_count": 10,
     "metadata": {},
     "output_type": "execute_result"
    }
   ],
   "source": [
    "best_valid_acc"
   ]
  },
  {
   "cell_type": "code",
   "execution_count": 11,
   "metadata": {},
   "outputs": [
    {
     "data": {
      "text/plain": [
       "[<matplotlib.lines.Line2D at 0x22e49be7e48>]"
      ]
     },
     "execution_count": 11,
     "metadata": {},
     "output_type": "execute_result"
    },
    {
     "data": {
      "image/png": "[encoded data removed]",
      "text/plain": [
       "<Figure size 432x288 with 1 Axes>"
      ]
     },
     "metadata": {
      "needs_background": "light"
     },
     "output_type": "display_data"
    }
   ],
   "source": [
    "import matplotlib.pyplot as plt\n",
    "plt.plot(history)"
   ]
  },
  {
   "cell_type": "code",
   "execution_count": 12,
   "metadata": {},
   "outputs": [
    {
     "name": "stdout",
     "output_type": "stream",
     "text": [
      "===================================================================================\n",
      "                                Kernel Shape     Output Shape    Params  \\\n",
      "Layer                                                                     \n",
      "0_features.Conv2d_0            [3, 64, 3, 3]  [1, 64, 32, 32]    1.792k   \n",
      "1_features.BatchNorm2d_1                [64]  [1, 64, 32, 32]     128.0   \n",
      "2_features.ReLU_2                          -  [1, 64, 32, 32]         -   \n",
      "3_features.Conv2d_3           [64, 14, 3, 3]  [1, 14, 32, 32]    8.078k   \n",
      "4_features.BatchNorm2d_4                [14]  [1, 14, 32, 32]      28.0   \n",
      "5_features.ReLU_5                          -  [1, 14, 32, 32]         -   \n",
      "6_features.MaxPool2d_6                     -  [1, 14, 16, 16]         -   \n",
      "7_features.Conv2d_7           [14, 62, 3, 3]  [1, 62, 16, 16]    7.874k   \n",
      "8_features.BatchNorm2d_8                [62]  [1, 62, 16, 16]     124.0   \n",
      "9_features.ReLU_9                          -  [1, 62, 16, 16]         -   \n",
      "10_features.Conv2d_10         [62, 77, 3, 3]  [1, 77, 16, 16]   43.043k   \n",
      "11_features.BatchNorm2d_11              [77]  [1, 77, 16, 16]     154.0   \n",
      "12_features.ReLU_12                        -  [1, 77, 16, 16]         -   \n",
      "13_features.MaxPool2d_13                   -    [1, 77, 8, 8]         -   \n",
      "14_features.Conv2d_14        [77, 127, 3, 3]   [1, 127, 8, 8]   88.138k   \n",
      "15_features.BatchNorm2d_15             [127]   [1, 127, 8, 8]     254.0   \n",
      "16_features.ReLU_16                        -   [1, 127, 8, 8]         -   \n",
      "17_features.Conv2d_17       [127, 155, 3, 3]   [1, 155, 8, 8]   177.32k   \n",
      "18_features.BatchNorm2d_18             [155]   [1, 155, 8, 8]     310.0   \n",
      "19_features.ReLU_19                        -   [1, 155, 8, 8]         -   \n",
      "20_features.Conv2d_20       [155, 153, 3, 3]   [1, 153, 8, 8]  213.588k   \n",
      "21_features.BatchNorm2d_21             [153]   [1, 153, 8, 8]     306.0   \n",
      "22_features.ReLU_22                        -   [1, 153, 8, 8]         -   \n",
      "23_features.MaxPool2d_23                   -   [1, 153, 4, 4]         -   \n",
      "24_features.Conv2d_24       [153, 226, 3, 3]   [1, 226, 4, 4]  311.428k   \n",
      "25_features.BatchNorm2d_25             [226]   [1, 226, 4, 4]     452.0   \n",
      "26_features.ReLU_26                        -   [1, 226, 4, 4]         -   \n",
      "27_features.Conv2d_27       [226, 238, 3, 3]   [1, 238, 4, 4]   484.33k   \n",
      "28_features.BatchNorm2d_28             [238]   [1, 238, 4, 4]     476.0   \n",
      "29_features.ReLU_29                        -   [1, 238, 4, 4]         -   \n",
      "30_features.Conv2d_30       [238, 190, 3, 3]   [1, 190, 4, 4]   407.17k   \n",
      "31_features.BatchNorm2d_31             [190]   [1, 190, 4, 4]     380.0   \n",
      "32_features.ReLU_32                        -   [1, 190, 4, 4]         -   \n",
      "33_features.MaxPool2d_33                   -   [1, 190, 2, 2]         -   \n",
      "34_features.Conv2d_34        [190, 79, 3, 3]    [1, 79, 2, 2]  135.169k   \n",
      "35_features.BatchNorm2d_35              [79]    [1, 79, 2, 2]     158.0   \n",
      "36_features.ReLU_36                        -    [1, 79, 2, 2]         -   \n",
      "37_features.Conv2d_37         [79, 94, 3, 3]    [1, 94, 2, 2]   66.928k   \n",
      "38_features.BatchNorm2d_38              [94]    [1, 94, 2, 2]     188.0   \n",
      "39_features.ReLU_39                        -    [1, 94, 2, 2]         -   \n",
      "40_features.Conv2d_40        [94, 114, 3, 3]   [1, 114, 2, 2]   96.558k   \n",
      "41_features.BatchNorm2d_41             [114]   [1, 114, 2, 2]     228.0   \n",
      "42_features.ReLU_42                        -   [1, 114, 2, 2]         -   \n",
      "43_features.MaxPool2d_43                   -   [1, 114, 1, 1]         -   \n",
      "44_classifier                     [114, 100]         [1, 100]     11.5k   \n",
      "\n",
      "                             Mult-Adds  \n",
      "Layer                                   \n",
      "0_features.Conv2d_0          1.769472M  \n",
      "1_features.BatchNorm2d_1          64.0  \n",
      "2_features.ReLU_2                    -  \n",
      "3_features.Conv2d_3          8.257536M  \n",
      "4_features.BatchNorm2d_4          14.0  \n",
      "5_features.ReLU_5                    -  \n",
      "6_features.MaxPool2d_6               -  \n",
      "7_features.Conv2d_7          1.999872M  \n",
      "8_features.BatchNorm2d_8          62.0  \n",
      "9_features.ReLU_9                    -  \n",
      "10_features.Conv2d_10       10.999296M  \n",
      "11_features.BatchNorm2d_11        77.0  \n",
      "12_features.ReLU_12                  -  \n",
      "13_features.MaxPool2d_13             -  \n",
      "14_features.Conv2d_14        5.632704M  \n",
      "15_features.BatchNorm2d_15       127.0  \n",
      "16_features.ReLU_16                  -  \n",
      "17_features.Conv2d_17        11.33856M  \n",
      "18_features.BatchNorm2d_18       155.0  \n",
      "19_features.ReLU_19                  -  \n",
      "20_features.Conv2d_20        13.65984M  \n",
      "21_features.BatchNorm2d_21       153.0  \n",
      "22_features.ReLU_22                  -  \n",
      "23_features.MaxPool2d_23             -  \n",
      "24_features.Conv2d_24        4.979232M  \n",
      "25_features.BatchNorm2d_25       226.0  \n",
      "26_features.ReLU_26                  -  \n",
      "27_features.Conv2d_27        7.745472M  \n",
      "28_features.BatchNorm2d_28       238.0  \n",
      "29_features.ReLU_29                  -  \n",
      "30_features.Conv2d_30         6.51168M  \n",
      "31_features.BatchNorm2d_31       190.0  \n",
      "32_features.ReLU_32                  -  \n",
      "33_features.MaxPool2d_33             -  \n",
      "34_features.Conv2d_34          540.36k  \n",
      "35_features.BatchNorm2d_35        79.0  \n",
      "36_features.ReLU_36                  -  \n",
      "37_features.Conv2d_37         267.336k  \n",
      "38_features.BatchNorm2d_38        94.0  \n",
      "39_features.ReLU_39                  -  \n",
      "40_features.Conv2d_40         385.776k  \n",
      "41_features.BatchNorm2d_41       114.0  \n",
      "42_features.ReLU_42                  -  \n",
      "43_features.MaxPool2d_43             -  \n",
      "44_classifier                    11.4k  \n",
      "-----------------------------------------------------------------------------------\n",
      "                          Totals\n",
      "Total params           2.056102M\n",
      "Trainable params       2.056102M\n",
      "Non-trainable params         0.0\n",
      "Mult-Adds             74.100129M\n",
      "===================================================================================\n"
     ]
    },
    {
     "data": {
      "text/html": [
       "<div>\n",
       "<style scoped>\n",
       "    .dataframe tbody tr th:only-of-type {\n",
       "        vertical-align: middle;\n",
       "    }\n",
       "\n",
       "    .dataframe tbody tr th {\n",
       "        vertical-align: top;\n",
       "    }\n",
       "\n",
       "    .dataframe thead th {\n",
       "        text-align: right;\n",
       "    }\n",
       "</style>\n",
       "<table border=\"1\" class=\"dataframe\">\n",
       "  <thead>\n",
       "    <tr style=\"text-align: right;\">\n",
       "      <th></th>\n",
       "      <th>Kernel Shape</th>\n",
       "      <th>Output Shape</th>\n",
       "      <th>Params</th>\n",
       "      <th>Mult-Adds</th>\n",
       "    </tr>\n",
       "    <tr>\n",
       "      <th>Layer</th>\n",
       "      <th></th>\n",
       "      <th></th>\n",
       "      <th></th>\n",
       "      <th></th>\n",
       "    </tr>\n",
       "  </thead>\n",
       "  <tbody>\n",
       "    <tr>\n",
       "      <th>0_features.Conv2d_0</th>\n",
       "      <td>[3, 64, 3, 3]</td>\n",
       "      <td>[1, 64, 32, 32]</td>\n",
       "      <td>1792.0</td>\n",
       "      <td>1769472.0</td>\n",
       "    </tr>\n",
       "    <tr>\n",
       "      <th>1_features.BatchNorm2d_1</th>\n",
       "      <td>[64]</td>\n",
       "      <td>[1, 64, 32, 32]</td>\n",
       "      <td>128.0</td>\n",
       "      <td>64.0</td>\n",
       "    </tr>\n",
       "    <tr>\n",
       "      <th>2_features.ReLU_2</th>\n",
       "      <td>-</td>\n",
       "      <td>[1, 64, 32, 32]</td>\n",
       "      <td>NaN</td>\n",
       "      <td>NaN</td>\n",
       "    </tr>\n",
       "    <tr>\n",
       "      <th>3_features.Conv2d_3</th>\n",
       "      <td>[64, 14, 3, 3]</td>\n",
       "      <td>[1, 14, 32, 32]</td>\n",
       "      <td>8078.0</td>\n",
       "      <td>8257536.0</td>\n",
       "    </tr>\n",
       "    <tr>\n",
       "      <th>4_features.BatchNorm2d_4</th>\n",
       "      <td>[14]</td>\n",
       "      <td>[1, 14, 32, 32]</td>\n",
       "      <td>28.0</td>\n",
       "      <td>14.0</td>\n",
       "    </tr>\n",
       "    <tr>\n",
       "      <th>5_features.ReLU_5</th>\n",
       "      <td>-</td>\n",
       "      <td>[1, 14, 32, 32]</td>\n",
       "      <td>NaN</td>\n",
       "      <td>NaN</td>\n",
       "    </tr>\n",
       "    <tr>\n",
       "      <th>6_features.MaxPool2d_6</th>\n",
       "      <td>-</td>\n",
       "      <td>[1, 14, 16, 16]</td>\n",
       "      <td>NaN</td>\n",
       "      <td>NaN</td>\n",
       "    </tr>\n",
       "    <tr>\n",
       "      <th>7_features.Conv2d_7</th>\n",
       "      <td>[14, 62, 3, 3]</td>\n",
       "      <td>[1, 62, 16, 16]</td>\n",
       "      <td>7874.0</td>\n",
       "      <td>1999872.0</td>\n",
       "    </tr>\n",
       "    <tr>\n",
       "      <th>8_features.BatchNorm2d_8</th>\n",
       "      <td>[62]</td>\n",
       "      <td>[1, 62, 16, 16]</td>\n",
       "      <td>124.0</td>\n",
       "      <td>62.0</td>\n",
       "    </tr>\n",
       "    <tr>\n",
       "      <th>9_features.ReLU_9</th>\n",
       "      <td>-</td>\n",
       "      <td>[1, 62, 16, 16]</td>\n",
       "      <td>NaN</td>\n",
       "      <td>NaN</td>\n",
       "    </tr>\n",
       "    <tr>\n",
       "      <th>10_features.Conv2d_10</th>\n",
       "      <td>[62, 77, 3, 3]</td>\n",
       "      <td>[1, 77, 16, 16]</td>\n",
       "      <td>43043.0</td>\n",
       "      <td>10999296.0</td>\n",
       "    </tr>\n",
       "    <tr>\n",
       "      <th>11_features.BatchNorm2d_11</th>\n",
       "      <td>[77]</td>\n",
       "      <td>[1, 77, 16, 16]</td>\n",
       "      <td>154.0</td>\n",
       "      <td>77.0</td>\n",
       "    </tr>\n",
       "    <tr>\n",
       "      <th>12_features.ReLU_12</th>\n",
       "      <td>-</td>\n",
       "      <td>[1, 77, 16, 16]</td>\n",
       "      <td>NaN</td>\n",
       "      <td>NaN</td>\n",
       "    </tr>\n",
       "    <tr>\n",
       "      <th>13_features.MaxPool2d_13</th>\n",
       "      <td>-</td>\n",
       "      <td>[1, 77, 8, 8]</td>\n",
       "      <td>NaN</td>\n",
       "      <td>NaN</td>\n",
       "    </tr>\n",
       "    <tr>\n",
       "      <th>14_features.Conv2d_14</th>\n",
       "      <td>[77, 127, 3, 3]</td>\n",
       "      <td>[1, 127, 8, 8]</td>\n",
       "      <td>88138.0</td>\n",
       "      <td>5632704.0</td>\n",
       "    </tr>\n",
       "    <tr>\n",
       "      <th>15_features.BatchNorm2d_15</th>\n",
       "      <td>[127]</td>\n",
       "      <td>[1, 127, 8, 8]</td>\n",
       "      <td>254.0</td>\n",
       "      <td>127.0</td>\n",
       "    </tr>\n",
       "    <tr>\n",
       "      <th>16_features.ReLU_16</th>\n",
       "      <td>-</td>\n",
       "      <td>[1, 127, 8, 8]</td>\n",
       "      <td>NaN</td>\n",
       "      <td>NaN</td>\n",
       "    </tr>\n",
       "    <tr>\n",
       "      <th>17_features.Conv2d_17</th>\n",
       "      <td>[127, 155, 3, 3]</td>\n",
       "      <td>[1, 155, 8, 8]</td>\n",
       "      <td>177320.0</td>\n",
       "      <td>11338560.0</td>\n",
       "    </tr>\n",
       "    <tr>\n",
       "      <th>18_features.BatchNorm2d_18</th>\n",
       "      <td>[155]</td>\n",
       "      <td>[1, 155, 8, 8]</td>\n",
       "      <td>310.0</td>\n",
       "      <td>155.0</td>\n",
       "    </tr>\n",
       "    <tr>\n",
       "      <th>19_features.ReLU_19</th>\n",
       "      <td>-</td>\n",
       "      <td>[1, 155, 8, 8]</td>\n",
       "      <td>NaN</td>\n",
       "      <td>NaN</td>\n",
       "    </tr>\n",
       "    <tr>\n",
       "      <th>20_features.Conv2d_20</th>\n",
       "      <td>[155, 153, 3, 3]</td>\n",
       "      <td>[1, 153, 8, 8]</td>\n",
       "      <td>213588.0</td>\n",
       "      <td>13659840.0</td>\n",
       "    </tr>\n",
       "    <tr>\n",
       "      <th>21_features.BatchNorm2d_21</th>\n",
       "      <td>[153]</td>\n",
       "      <td>[1, 153, 8, 8]</td>\n",
       "      <td>306.0</td>\n",
       "      <td>153.0</td>\n",
       "    </tr>\n",
       "    <tr>\n",
       "      <th>22_features.ReLU_22</th>\n",
       "      <td>-</td>\n",
       "      <td>[1, 153, 8, 8]</td>\n",
       "      <td>NaN</td>\n",
       "      <td>NaN</td>\n",
       "    </tr>\n",
       "    <tr>\n",
       "      <th>23_features.MaxPool2d_23</th>\n",
       "      <td>-</td>\n",
       "      <td>[1, 153, 4, 4]</td>\n",
       "      <td>NaN</td>\n",
       "      <td>NaN</td>\n",
       "    </tr>\n",
       "    <tr>\n",
       "      <th>24_features.Conv2d_24</th>\n",
       "      <td>[153, 226, 3, 3]</td>\n",
       "      <td>[1, 226, 4, 4]</td>\n",
       "      <td>311428.0</td>\n",
       "      <td>4979232.0</td>\n",
       "    </tr>\n",
       "    <tr>\n",
       "      <th>25_features.BatchNorm2d_25</th>\n",
       "      <td>[226]</td>\n",
       "      <td>[1, 226, 4, 4]</td>\n",
       "      <td>452.0</td>\n",
       "      <td>226.0</td>\n",
       "    </tr>\n",
       "    <tr>\n",
       "      <th>26_features.ReLU_26</th>\n",
       "      <td>-</td>\n",
       "      <td>[1, 226, 4, 4]</td>\n",
       "      <td>NaN</td>\n",
       "      <td>NaN</td>\n",
       "    </tr>\n",
       "    <tr>\n",
       "      <th>27_features.Conv2d_27</th>\n",
       "      <td>[226, 238, 3, 3]</td>\n",
       "      <td>[1, 238, 4, 4]</td>\n",
       "      <td>484330.0</td>\n",
       "      <td>7745472.0</td>\n",
       "    </tr>\n",
       "    <tr>\n",
       "      <th>28_features.BatchNorm2d_28</th>\n",
       "      <td>[238]</td>\n",
       "      <td>[1, 238, 4, 4]</td>\n",
       "      <td>476.0</td>\n",
       "      <td>238.0</td>\n",
       "    </tr>\n",
       "    <tr>\n",
       "      <th>29_features.ReLU_29</th>\n",
       "      <td>-</td>\n",
       "      <td>[1, 238, 4, 4]</td>\n",
       "      <td>NaN</td>\n",
       "      <td>NaN</td>\n",
       "    </tr>\n",
       "    <tr>\n",
       "      <th>30_features.Conv2d_30</th>\n",
       "      <td>[238, 190, 3, 3]</td>\n",
       "      <td>[1, 190, 4, 4]</td>\n",
       "      <td>407170.0</td>\n",
       "      <td>6511680.0</td>\n",
       "    </tr>\n",
       "    <tr>\n",
       "      <th>31_features.BatchNorm2d_31</th>\n",
       "      <td>[190]</td>\n",
       "      <td>[1, 190, 4, 4]</td>\n",
       "      <td>380.0</td>\n",
       "      <td>190.0</td>\n",
       "    </tr>\n",
       "    <tr>\n",
       "      <th>32_features.ReLU_32</th>\n",
       "      <td>-</td>\n",
       "      <td>[1, 190, 4, 4]</td>\n",
       "      <td>NaN</td>\n",
       "      <td>NaN</td>\n",
       "    </tr>\n",
       "    <tr>\n",
       "      <th>33_features.MaxPool2d_33</th>\n",
       "      <td>-</td>\n",
       "      <td>[1, 190, 2, 2]</td>\n",
       "      <td>NaN</td>\n",
       "      <td>NaN</td>\n",
       "    </tr>\n",
       "    <tr>\n",
       "      <th>34_features.Conv2d_34</th>\n",
       "      <td>[190, 79, 3, 3]</td>\n",
       "      <td>[1, 79, 2, 2]</td>\n",
       "      <td>135169.0</td>\n",
       "      <td>540360.0</td>\n",
       "    </tr>\n",
       "    <tr>\n",
       "      <th>35_features.BatchNorm2d_35</th>\n",
       "      <td>[79]</td>\n",
       "      <td>[1, 79, 2, 2]</td>\n",
       "      <td>158.0</td>\n",
       "      <td>79.0</td>\n",
       "    </tr>\n",
       "    <tr>\n",
       "      <th>36_features.ReLU_36</th>\n",
       "      <td>-</td>\n",
       "      <td>[1, 79, 2, 2]</td>\n",
       "      <td>NaN</td>\n",
       "      <td>NaN</td>\n",
       "    </tr>\n",
       "    <tr>\n",
       "      <th>37_features.Conv2d_37</th>\n",
       "      <td>[79, 94, 3, 3]</td>\n",
       "      <td>[1, 94, 2, 2]</td>\n",
       "      <td>66928.0</td>\n",
       "      <td>267336.0</td>\n",
       "    </tr>\n",
       "    <tr>\n",
       "      <th>38_features.BatchNorm2d_38</th>\n",
       "      <td>[94]</td>\n",
       "      <td>[1, 94, 2, 2]</td>\n",
       "      <td>188.0</td>\n",
       "      <td>94.0</td>\n",
       "    </tr>\n",
       "    <tr>\n",
       "      <th>39_features.ReLU_39</th>\n",
       "      <td>-</td>\n",
       "      <td>[1, 94, 2, 2]</td>\n",
       "      <td>NaN</td>\n",
       "      <td>NaN</td>\n",
       "    </tr>\n",
       "    <tr>\n",
       "      <th>40_features.Conv2d_40</th>\n",
       "      <td>[94, 114, 3, 3]</td>\n",
       "      <td>[1, 114, 2, 2]</td>\n",
       "      <td>96558.0</td>\n",
       "      <td>385776.0</td>\n",
       "    </tr>\n",
       "    <tr>\n",
       "      <th>41_features.BatchNorm2d_41</th>\n",
       "      <td>[114]</td>\n",
       "      <td>[1, 114, 2, 2]</td>\n",
       "      <td>228.0</td>\n",
       "      <td>114.0</td>\n",
       "    </tr>\n",
       "    <tr>\n",
       "      <th>42_features.ReLU_42</th>\n",
       "      <td>-</td>\n",
       "      <td>[1, 114, 2, 2]</td>\n",
       "      <td>NaN</td>\n",
       "      <td>NaN</td>\n",
       "    </tr>\n",
       "    <tr>\n",
       "      <th>43_features.MaxPool2d_43</th>\n",
       "      <td>-</td>\n",
       "      <td>[1, 114, 1, 1]</td>\n",
       "      <td>NaN</td>\n",
       "      <td>NaN</td>\n",
       "    </tr>\n",
       "    <tr>\n",
       "      <th>44_classifier</th>\n",
       "      <td>[114, 100]</td>\n",
       "      <td>[1, 100]</td>\n",
       "      <td>11500.0</td>\n",
       "      <td>11400.0</td>\n",
       "    </tr>\n",
       "  </tbody>\n",
       "</table>\n",
       "</div>"
      ],
      "text/plain": [
       "                                Kernel Shape     Output Shape    Params  \\\n",
       "Layer                                                                     \n",
       "0_features.Conv2d_0            [3, 64, 3, 3]  [1, 64, 32, 32]    1792.0   \n",
       "1_features.BatchNorm2d_1                [64]  [1, 64, 32, 32]     128.0   \n",
       "2_features.ReLU_2                          -  [1, 64, 32, 32]       NaN   \n",
       "3_features.Conv2d_3           [64, 14, 3, 3]  [1, 14, 32, 32]    8078.0   \n",
       "4_features.BatchNorm2d_4                [14]  [1, 14, 32, 32]      28.0   \n",
       "5_features.ReLU_5                          -  [1, 14, 32, 32]       NaN   \n",
       "6_features.MaxPool2d_6                     -  [1, 14, 16, 16]       NaN   \n",
       "7_features.Conv2d_7           [14, 62, 3, 3]  [1, 62, 16, 16]    7874.0   \n",
       "8_features.BatchNorm2d_8                [62]  [1, 62, 16, 16]     124.0   \n",
       "9_features.ReLU_9                          -  [1, 62, 16, 16]       NaN   \n",
       "10_features.Conv2d_10         [62, 77, 3, 3]  [1, 77, 16, 16]   43043.0   \n",
       "11_features.BatchNorm2d_11              [77]  [1, 77, 16, 16]     154.0   \n",
       "12_features.ReLU_12                        -  [1, 77, 16, 16]       NaN   \n",
       "13_features.MaxPool2d_13                   -    [1, 77, 8, 8]       NaN   \n",
       "14_features.Conv2d_14        [77, 127, 3, 3]   [1, 127, 8, 8]   88138.0   \n",
       "15_features.BatchNorm2d_15             [127]   [1, 127, 8, 8]     254.0   \n",
       "16_features.ReLU_16                        -   [1, 127, 8, 8]       NaN   \n",
       "17_features.Conv2d_17       [127, 155, 3, 3]   [1, 155, 8, 8]  177320.0   \n",
       "18_features.BatchNorm2d_18             [155]   [1, 155, 8, 8]     310.0   \n",
       "19_features.ReLU_19                        -   [1, 155, 8, 8]       NaN   \n",
       "20_features.Conv2d_20       [155, 153, 3, 3]   [1, 153, 8, 8]  213588.0   \n",
       "21_features.BatchNorm2d_21             [153]   [1, 153, 8, 8]     306.0   \n",
       "22_features.ReLU_22                        -   [1, 153, 8, 8]       NaN   \n",
       "23_features.MaxPool2d_23                   -   [1, 153, 4, 4]       NaN   \n",
       "24_features.Conv2d_24       [153, 226, 3, 3]   [1, 226, 4, 4]  311428.0   \n",
       "25_features.BatchNorm2d_25             [226]   [1, 226, 4, 4]     452.0   \n",
       "26_features.ReLU_26                        -   [1, 226, 4, 4]       NaN   \n",
       "27_features.Conv2d_27       [226, 238, 3, 3]   [1, 238, 4, 4]  484330.0   \n",
       "28_features.BatchNorm2d_28             [238]   [1, 238, 4, 4]     476.0   \n",
       "29_features.ReLU_29                        -   [1, 238, 4, 4]       NaN   \n",
       "30_features.Conv2d_30       [238, 190, 3, 3]   [1, 190, 4, 4]  407170.0   \n",
       "31_features.BatchNorm2d_31             [190]   [1, 190, 4, 4]     380.0   \n",
       "32_features.ReLU_32                        -   [1, 190, 4, 4]       NaN   \n",
       "33_features.MaxPool2d_33                   -   [1, 190, 2, 2]       NaN   \n",
       "34_features.Conv2d_34        [190, 79, 3, 3]    [1, 79, 2, 2]  135169.0   \n",
       "35_features.BatchNorm2d_35              [79]    [1, 79, 2, 2]     158.0   \n",
       "36_features.ReLU_36                        -    [1, 79, 2, 2]       NaN   \n",
       "37_features.Conv2d_37         [79, 94, 3, 3]    [1, 94, 2, 2]   66928.0   \n",
       "38_features.BatchNorm2d_38              [94]    [1, 94, 2, 2]     188.0   \n",
       "39_features.ReLU_39                        -    [1, 94, 2, 2]       NaN   \n",
       "40_features.Conv2d_40        [94, 114, 3, 3]   [1, 114, 2, 2]   96558.0   \n",
       "41_features.BatchNorm2d_41             [114]   [1, 114, 2, 2]     228.0   \n",
       "42_features.ReLU_42                        -   [1, 114, 2, 2]       NaN   \n",
       "43_features.MaxPool2d_43                   -   [1, 114, 1, 1]       NaN   \n",
       "44_classifier                     [114, 100]         [1, 100]   11500.0   \n",
       "\n",
       "                             Mult-Adds  \n",
       "Layer                                   \n",
       "0_features.Conv2d_0          1769472.0  \n",
       "1_features.BatchNorm2d_1          64.0  \n",
       "2_features.ReLU_2                  NaN  \n",
       "3_features.Conv2d_3          8257536.0  \n",
       "4_features.BatchNorm2d_4          14.0  \n",
       "5_features.ReLU_5                  NaN  \n",
       "6_features.MaxPool2d_6             NaN  \n",
       "7_features.Conv2d_7          1999872.0  \n",
       "8_features.BatchNorm2d_8          62.0  \n",
       "9_features.ReLU_9                  NaN  \n",
       "10_features.Conv2d_10       10999296.0  \n",
       "11_features.BatchNorm2d_11        77.0  \n",
       "12_features.ReLU_12                NaN  \n",
       "13_features.MaxPool2d_13           NaN  \n",
       "14_features.Conv2d_14        5632704.0  \n",
       "15_features.BatchNorm2d_15       127.0  \n",
       "16_features.ReLU_16                NaN  \n",
       "17_features.Conv2d_17       11338560.0  \n",
       "18_features.BatchNorm2d_18       155.0  \n",
       "19_features.ReLU_19                NaN  \n",
       "20_features.Conv2d_20       13659840.0  \n",
       "21_features.BatchNorm2d_21       153.0  \n",
       "22_features.ReLU_22                NaN  \n",
       "23_features.MaxPool2d_23           NaN  \n",
       "24_features.Conv2d_24        4979232.0  \n",
       "25_features.BatchNorm2d_25       226.0  \n",
       "26_features.ReLU_26                NaN  \n",
       "27_features.Conv2d_27        7745472.0  \n",
       "28_features.BatchNorm2d_28       238.0  \n",
       "29_features.ReLU_29                NaN  \n",
       "30_features.Conv2d_30        6511680.0  \n",
       "31_features.BatchNorm2d_31       190.0  \n",
       "32_features.ReLU_32                NaN  \n",
       "33_features.MaxPool2d_33           NaN  \n",
       "34_features.Conv2d_34         540360.0  \n",
       "35_features.BatchNorm2d_35        79.0  \n",
       "36_features.ReLU_36                NaN  \n",
       "37_features.Conv2d_37         267336.0  \n",
       "38_features.BatchNorm2d_38        94.0  \n",
       "39_features.ReLU_39                NaN  \n",
       "40_features.Conv2d_40         385776.0  \n",
       "41_features.BatchNorm2d_41       114.0  \n",
       "42_features.ReLU_42                NaN  \n",
       "43_features.MaxPool2d_43           NaN  \n",
       "44_classifier                  11400.0  "
      ]
     },
     "execution_count": 12,
     "metadata": {},
     "output_type": "execute_result"
    }
   ],
   "source": [
    "from torchsummaryX import summary\n",
    "summary(new_model, torch.zeros((1, 3, 32, 32)).to(device))"
   ]
  },
  {
   "cell_type": "code",
   "execution_count": 13,
   "metadata": {},
   "outputs": [
    {
     "name": "stdout",
     "output_type": "stream",
     "text": [
      "0.1249\n",
      "0.192\n",
      "0.3057\n",
      "0.4169\n",
      "0.5024\n",
      "0.5557\n",
      "0.5891\n",
      "0.603\n",
      "0.6154\n",
      "0.6202\n",
      "0.6305\n",
      "0.6368\n",
      "0.6391\n",
      "0.6414\n",
      "0.6367\n",
      "0.6421\n",
      "0.6448\n",
      "0.6491\n",
      "0.6502\n",
      "0.6543\n",
      "0.6495\n",
      "0.6509\n",
      "0.6516\n",
      "0.6599\n",
      "0.6601\n",
      "0.6587\n",
      "0.6564\n",
      "0.6603\n",
      "0.6574\n",
      "0.6571\n"
     ]
    }
   ],
   "source": [
    "for i in history:\n",
    "    print(i)"
   ]
  },
  {
   "cell_type": "code",
   "execution_count": 14,
   "metadata": {},
   "outputs": [
    {
     "data": {
      "text/plain": [
       "66.49694720000001"
      ]
     },
     "execution_count": 14,
     "metadata": {},
     "output_type": "execute_result"
    }
   ],
   "source": [
    "332.484736*0.2"
   ]
  },
  {
   "cell_type": "code",
   "execution_count": null,
   "metadata": {},
   "outputs": [],
   "source": []
  },
  {
   "cell_type": "code",
   "execution_count": null,
   "metadata": {},
   "outputs": [],
   "source": []
  }
 ],
 "metadata": {
  "kernelspec": {
   "display_name": "pytorch16",
   "language": "python",
   "name": "pytorch16"
  },
  "language_info": {
   "codemirror_mode": {
    "name": "ipython",
    "version": 3
   },
   "file_extension": ".py",
   "mimetype": "text/x-python",
   "name": "python",
   "nbconvert_exporter": "python",
   "pygments_lexer": "ipython3",
   "version": "3.7.7"
  }
 },
 "nbformat": 4,
 "nbformat_minor": 4
}
